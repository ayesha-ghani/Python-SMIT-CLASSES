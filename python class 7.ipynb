{
 "cells": [
  {
   "cell_type": "code",
   "execution_count": 15,
   "metadata": {},
   "outputs": [
    {
     "name": "stdout",
     "output_type": "stream",
     "text": [
      "Ayesha\n",
      "19\n",
      "101022\n",
      "UBIT\n",
      "NED UNIVERSITY\n",
      "\n",
      "\n",
      "Faha\n",
      "19\n",
      "101023\n",
      "UBIT\n",
      "\n",
      "\n",
      "<__main__.Registration object at 0x00000251FA9E6C48>\n",
      "<__main__.Registration object at 0x00000251FA9E6FC8>\n"
     ]
    }
   ],
   "source": [
    "class Registration():   #creating class              #process refer to instantiation\n",
    "    def __init__(self,name,age,roll_no):     #functions inside class called methods\n",
    "        self.name = name                         #self.  are attributes  and =name are attributes names\n",
    "        self.age = age\n",
    "        self.roll_no = roll_no\n",
    "        self.uniname = \"UBIT\"       #default attribute\n",
    "        \n",
    "        \n",
    "student_1 = Registration('Ayesha',19,101022)       #calling class called instance\n",
    "print(student_1.name)\n",
    "print(student_1.age)\n",
    "print(student_1.roll_no)\n",
    "print(student_1.uniname)  #default \n",
    "\n",
    "#directly modify\n",
    "student_1.uniname = 'NED UNIVERSITY'\n",
    "print(student_1.uniname)\n",
    "\n",
    "\n",
    "\n",
    "print('\\n')\n",
    "\n",
    "\n",
    "student_2 = Registration('Faha',19,101023)       #calling class called instance ,instance of class called object\n",
    "print(student_2.name)\n",
    "print(student_2.age)\n",
    "print(student_2.roll_no)\n",
    "print(student_2.uniname)\n",
    "\n",
    "print('\\n')\n",
    "\n",
    "\n",
    "print(student_1)    \n",
    "print(student_2)    #address where in memory they are located"
   ]
  },
  {
   "cell_type": "code",
   "execution_count": 21,
   "metadata": {},
   "outputs": [
    {
     "name": "stdout",
     "output_type": "stream",
     "text": [
      "Ayesha\n",
      "19\n",
      "101022\n",
      "UBIT\n",
      "Habib University\n",
      "101023\n"
     ]
    }
   ],
   "source": [
    "class Registration():   #creating class              #process refer to instantiation\n",
    "    def __init__(self,name,age,roll_no):     #functions inside class called methods\n",
    "        self.name = name                         #self.  are attributes  and =name are attributes names\n",
    "        self.age = age\n",
    "        self.roll_no = roll_no\n",
    "        self.uniname = \"UBIT\"       #default attribute\n",
    "        \n",
    "        \n",
    "        \n",
    "    def updateUNI(self,newname):    #another method\n",
    "        self.newname = newname\n",
    "            \n",
    "        \n",
    "    def updateRN(self,newrollno):    #another method\n",
    "        self.roll_no += newrollno\n",
    "            \n",
    "            \n",
    "student_1 = Registration('Ayesha',19,101022)       #calling class called instance\n",
    "print(student_1.name)\n",
    "print(student_1.age)\n",
    "print(student_1.roll_no)\n",
    "print(student_1.uniname)  #default \n",
    "student_1.updateUNI('Habib University')   #modified name\n",
    "print(student_1.newname)\n",
    "\n",
    "\n",
    "student_1.updateRN(1)   #modified name\n",
    "print(student_1.roll_no)\n",
    "\n",
    "\n"
   ]
  },
  {
   "cell_type": "code",
   "execution_count": null,
   "metadata": {},
   "outputs": [],
   "source": []
  }
 ],
 "metadata": {
  "kernelspec": {
   "display_name": "Python 3",
   "language": "python",
   "name": "python3"
  },
  "language_info": {
   "codemirror_mode": {
    "name": "ipython",
    "version": 3
   },
   "file_extension": ".py",
   "mimetype": "text/x-python",
   "name": "python",
   "nbconvert_exporter": "python",
   "pygments_lexer": "ipython3",
   "version": "3.7.4"
  }
 },
 "nbformat": 4,
 "nbformat_minor": 2
}
