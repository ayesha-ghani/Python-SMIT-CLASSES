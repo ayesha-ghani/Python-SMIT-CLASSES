{
 "cells": [
  {
   "cell_type": "code",
   "execution_count": 6,
   "metadata": {},
   "outputs": [
    {
     "ename": "TypeError",
     "evalue": "Car() takes no arguments",
     "output_type": "error",
     "traceback": [
      "\u001b[1;31m---------------------------------------------------------------------------\u001b[0m",
      "\u001b[1;31mTypeError\u001b[0m                                 Traceback (most recent call last)",
      "\u001b[1;32m<ipython-input-6-df3a6de64602>\u001b[0m in \u001b[0;36m<module>\u001b[1;34m\u001b[0m\n\u001b[0;32m     16\u001b[0m \u001b[1;33m\u001b[0m\u001b[0m\n\u001b[0;32m     17\u001b[0m \u001b[1;33m\u001b[0m\u001b[0m\n\u001b[1;32m---> 18\u001b[1;33m \u001b[0mcar1\u001b[0m \u001b[1;33m=\u001b[0m \u001b[0mCar\u001b[0m\u001b[1;33m(\u001b[0m\u001b[1;34m'audi'\u001b[0m\u001b[1;33m,\u001b[0m \u001b[1;34m'A3'\u001b[0m\u001b[1;33m,\u001b[0m \u001b[1;34m'blue'\u001b[0m\u001b[1;33m)\u001b[0m\u001b[1;33m\u001b[0m\u001b[1;33m\u001b[0m\u001b[0m\n\u001b[0m\u001b[0;32m     19\u001b[0m \u001b[0mprint\u001b[0m\u001b[1;33m(\u001b[0m\u001b[0mcar1\u001b[0m\u001b[1;33m.\u001b[0m\u001b[0mname\u001b[0m\u001b[1;33m)\u001b[0m\u001b[1;33m\u001b[0m\u001b[1;33m\u001b[0m\u001b[0m\n\u001b[0;32m     20\u001b[0m \u001b[1;33m\u001b[0m\u001b[0m\n",
      "\u001b[1;31mTypeError\u001b[0m: Car() takes no arguments"
     ]
    }
   ],
   "source": [
    "#INHERITANCE\n",
    "\n",
    "class Car():\n",
    "    def __int__ (self,name,model,color): #parent class\n",
    "        self.name = name\n",
    "        self.model = model\n",
    "        self.color = color\n",
    "        \n",
    "    def average(self,kilo):\n",
    "        print(\"{} kilometers per liter\".format(kilo))\n",
    "    \n",
    "    def tank(self):\n",
    "        print(\"yes\")\n",
    "\n",
    "class Electric_car(Car):            #child class\n",
    "     def __int__ (self,name,model,color):\n",
    "            super().__init__(name,model,color)\n",
    "    \n",
    "     def tank(self):\n",
    "            print(\"No\")\n",
    "            \n",
    "     \n",
    "     def get_desc(self):\n",
    "            print(\"Name of car {}, Model of car {}, Color of car {}\".format(self.name,self.model,self.color))\n",
    "            \n",
    "\n",
    "    \n",
    "car1 = Car('audi', 'A3', 'blue')\n",
    "print(car1.name)\n",
    "\n",
    "new_car = Electric_car('Audi','A4','black')\n",
    "new_car.tank()\n",
    "\n",
    "new_car.average(40)\n",
    "\n",
    "new_car.get_desc()\n"
   ]
  },
  {
   "cell_type": "code",
   "execution_count": 13,
   "metadata": {},
   "outputs": [
    {
     "name": "stdout",
     "output_type": "stream",
     "text": [
      "30 kilometers per hour\n",
      "30 kilometers per hour\n",
      "89 kilometers per hour\n"
     ]
    }
   ],
   "source": [
    "#ENCAPSULATION\n",
    "\n",
    "#public can be accessible by other classes\n",
    "#protected can be accesible by child class only\n",
    "#private can be only use in their own class\n",
    "\n",
    "class Newcar():\n",
    "    def __init__(self):\n",
    "        self.__maxAvrg = 30   #double underscore encapsulate variable #private variable\n",
    "        \n",
    "    def Average(self):\n",
    "        print(\"{} kilometers per hour\".format(self.__maxAvrg))\n",
    "        \n",
    "    def update_avg(self,updated_value): #private variable can be change within the class\n",
    "        self.__maxAvrg = updated_value\n",
    "        \n",
    "obj = Newcar()\n",
    "obj.Average()\n",
    "\n",
    "obj.__maxAvrg = 60\n",
    "obj.Average()\n",
    "        \n",
    "        \n",
    "        \n",
    "obj.update_avg(89)\n",
    "obj.Average()\n"
   ]
  },
  {
   "cell_type": "code",
   "execution_count": 15,
   "metadata": {},
   "outputs": [
    {
     "name": "stdout",
     "output_type": "stream",
     "text": [
      "Pakistan capital is Islamabad\n"
     ]
    }
   ],
   "source": [
    "#POLYMORPHISM\n",
    "#overloading runs at compile time wheras overriding at run time\n",
    "\n",
    "#multiple methods of same name in same class and different parameters causes overloading\n",
    "\n",
    "#same method in child class and in parent clss causes overriding and method of child class will run\n",
    "\n",
    "class Pakistan():\n",
    "    def details(self):\n",
    "        print(\"Pakistan capital is Islamabad\")\n",
    "        \n",
    "        \n",
    "\n",
    "class USA():\n",
    "    def details(self):\n",
    "        print(\"USA capital is Islamabad\")\n",
    "        \n",
    "        \n",
    "def desc(country):\n",
    "    country.details()\n",
    "    \n",
    "pak = Pakistan()    \n",
    "desc(pak)"
   ]
  },
  {
   "cell_type": "code",
   "execution_count": 21,
   "metadata": {},
   "outputs": [
    {
     "name": "stdout",
     "output_type": "stream",
     "text": [
      "14\n"
     ]
    }
   ],
   "source": [
    "#overloading\n",
    "\n",
    "class overloadingdemo():         #resolving overloading issue\n",
    "    def sum(self,a=None,b=None,c=None): \n",
    "        if a and b and c != None:\n",
    "            print(a+b+c)\n",
    "        elif a and b != None:\n",
    "            print(a+b)\n",
    "        \n",
    "        \n",
    "    #def sum(self,a,b,c):\n",
    "        #print(a+b+c)\n",
    "        \n",
    "value = overloadingdemo()\n",
    "\n",
    "value.sum(2,4,8)"
   ]
  },
  {
   "cell_type": "code",
   "execution_count": 24,
   "metadata": {},
   "outputs": [
    {
     "name": "stdout",
     "output_type": "stream",
     "text": [
      "he gives 8 tola gold\n"
     ]
    }
   ],
   "source": [
    "#ABSTRACTION\n",
    "\n",
    "from abc import ABC,abstractmethod\n",
    "\n",
    "class Nikkah():\n",
    "    @abstractmethod\n",
    "    def haqmaher(self):\n",
    "        pass\n",
    "    \n",
    "class Human_1(Nikkah): #complexity will be in base classes child classes n all\n",
    "    def haqmaher(self,tola):\n",
    "        print(\"he gives \"+ str(tola)+\" tola gold\")\n",
    "        \n",
    "        \n",
    "human1 = Human_1()\n",
    "human1.haqmaher(8)"
   ]
  },
  {
   "cell_type": "code",
   "execution_count": null,
   "metadata": {},
   "outputs": [],
   "source": []
  }
 ],
 "metadata": {
  "kernelspec": {
   "display_name": "Python 3",
   "language": "python",
   "name": "python3"
  },
  "language_info": {
   "codemirror_mode": {
    "name": "ipython",
    "version": 3
   },
   "file_extension": ".py",
   "mimetype": "text/x-python",
   "name": "python",
   "nbconvert_exporter": "python",
   "pygments_lexer": "ipython3",
   "version": "3.7.4"
  }
 },
 "nbformat": 4,
 "nbformat_minor": 2
}
