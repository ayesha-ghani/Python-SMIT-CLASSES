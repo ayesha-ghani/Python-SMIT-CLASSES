{
 "cells": [
  {
   "cell_type": "code",
   "execution_count": 1,
   "metadata": {},
   "outputs": [
    {
     "name": "stdout",
     "output_type": "stream",
     "text": [
      "('ayesha', 'rabia', 'muraffa')\n"
     ]
    }
   ],
   "source": [
    "#creating tuple -tuple values cannot be changed\n",
    "tuple = ('ayesha','rabia','muraffa')\n",
    "print(tuple)"
   ]
  },
  {
   "cell_type": "code",
   "execution_count": 2,
   "metadata": {},
   "outputs": [
    {
     "data": {
      "text/plain": [
       "'rabia'"
      ]
     },
     "execution_count": 2,
     "metadata": {},
     "output_type": "execute_result"
    }
   ],
   "source": [
    "tuple[1]"
   ]
  },
  {
   "cell_type": "code",
   "execution_count": 4,
   "metadata": {},
   "outputs": [
    {
     "name": "stdout",
     "output_type": "stream",
     "text": [
      "Enter the first number7\n",
      "Enter the operator+\n",
      "Enter the second number4\n",
      "Added value is: 11\n"
     ]
    }
   ],
   "source": [
    "number1 = int(input('Enter the first number'))\n",
    "operator = input('Enter the operator')\n",
    "number2 = int(input('Enter the second number'))\n",
    "\n",
    "if operator == '+':\n",
    "    answer = number1+number2\n",
    "    print('Added value is:',answer)\n",
    "elif operator == '-':\n",
    "    answer = number1-number2\n",
    "    print('Subtracted value is:',answer)\n",
    "elif operator == '*':\n",
    "    answer = number1*number2\n",
    "    print('Multiplied value is:',answer)\n",
    "elif operator == '/':\n",
    "    answer = number1/number2\n",
    "    print('Divided value is:',answer)\n",
    "else:\n",
    "    print('Please enter correct operator')\n",
    "\n",
    "    \n",
    "    "
   ]
  },
  {
   "cell_type": "code",
   "execution_count": 8,
   "metadata": {},
   "outputs": [
    {
     "ename": "IndentationError",
     "evalue": "expected an indented block (<ipython-input-8-443797b6f683>, line 5)",
     "output_type": "error",
     "traceback": [
      "\u001b[1;36m  File \u001b[1;32m\"<ipython-input-8-443797b6f683>\"\u001b[1;36m, line \u001b[1;32m5\u001b[0m\n\u001b[1;33m    print(inp,\"is the cleanest city\")\u001b[0m\n\u001b[1;37m        ^\u001b[0m\n\u001b[1;31mIndentationError\u001b[0m\u001b[1;31m:\u001b[0m expected an indented block\n"
     ]
    }
   ],
   "source": [
    "cleanest_cities = [\"islamabad\", \"karachi\",\"faisalabad\",\"quetta\",\"peshawer\"]\n",
    "inp = input('Enter the city name')\n",
    "for city in cleanest_cities:\n",
    "    if inp == \"cleanest_cities\":\n",
    "    print(inp,\"is the cleanest city\")\n",
    "    else \n",
    "    \n"
   ]
  },
  {
   "cell_type": "code",
   "execution_count": null,
   "metadata": {},
   "outputs": [],
   "source": []
  }
 ],
 "metadata": {
  "kernelspec": {
   "display_name": "Python 3",
   "language": "python",
   "name": "python3"
  },
  "language_info": {
   "codemirror_mode": {
    "name": "ipython",
    "version": 3
   },
   "file_extension": ".py",
   "mimetype": "text/x-python",
   "name": "python",
   "nbconvert_exporter": "python",
   "pygments_lexer": "ipython3",
   "version": "3.7.4"
  }
 },
 "nbformat": 4,
 "nbformat_minor": 2
}
